{
 "cells": [
  {
   "cell_type": "code",
   "execution_count": null,
   "metadata": {},
   "outputs": [],
   "source": [
    "actions = {\n",
    "    \"Task1\": \"Complete morning prayers\",\n",
    "    \"Task2\": \"Do Yoga and Exercise\",\n",
    "    \"Task3\": \"Learn Python and Machine Learning concepts and understand code\",\n",
    "    \"Task4\": \"Get ready and attend online classes\",\n",
    "    \"Task5\": \"Have lunch\",\n",
    "    \"Task6\": \"Take a nap and resume your studies\",\n",
    "}\n",
    "value = input(\"Enter your choice (see-delete):\") \n",
    "match value:\n",
    "    case \"see\":\n",
    "        print(actions)\n",
    "    case \"create\":\n",
    "        action = input(\"Enter a new task:\")\n",
    "        actions[action]= \"To do\"\n",
    "        print(actions)   \n",
    "    case \"update\":\n",
    "        print(actions)\n",
    "        action=input(\"Enter task to update:\")\n",
    "        if action in actions:\n",
    "            actions[action]=input(\"Enter new task:\")\n",
    "        else:\n",
    "                print(\"task not found\")\n",
    "        print(actions)\n",
    "    case \"delete\":\n",
    "        print(actions)\n",
    "        action=input(\"Enter task to delete:\")\n",
    "        a=actions.pop(action,None)\n",
    "        if a is None:\n",
    "            print(\"task not found\")\n",
    "        else:\n",
    "                print(\"task deleted\")\n",
    "        print(actions)"
   ]
  }
 ],
 "metadata": {
  "kernelspec": {
   "display_name": "PythonNew",
   "language": "python",
   "name": "python3"
  },
  "language_info": {
   "name": "python",
   "version": "3.12.8"
  }
 },
 "nbformat": 4,
 "nbformat_minor": 2
}
