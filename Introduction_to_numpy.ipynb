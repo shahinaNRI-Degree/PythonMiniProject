{
  "nbformat": 4,
  "nbformat_minor": 0,
  "metadata": {
    "colab": {
      "provenance": [],
      "authorship_tag": "ABX9TyPFg6Y4rNz+wos6XaOrR841",
      "include_colab_link": true
    },
    "kernelspec": {
      "name": "python3",
      "display_name": "Python 3"
    },
    "language_info": {
      "name": "python"
    }
  },
  "cells": [
    {
      "cell_type": "markdown",
      "metadata": {
        "id": "view-in-github",
        "colab_type": "text"
      },
      "source": [
        "<a href=\"https://colab.research.google.com/github/shahinaNRI-Degree/PythonMiniProject/blob/main/Introduction_to_numpy.ipynb\" target=\"_parent\"><img src=\"https://colab.research.google.com/assets/colab-badge.svg\" alt=\"Open In Colab\"/></a>"
      ]
    },
    {
      "cell_type": "code",
      "source": [
        "# Numpy - Numeric Python\n",
        "# Most powerful package - Library\n",
        "\n",
        "# Numpy - Dimensions\n",
        "\n",
        "# A-One Dimensional Array\n",
        "# [A,B] || [A\n",
        "#             B] - Two Dimensional Array - Row || Column\n",
        "# Three Dimensional\n",
        "\n",
        "# Array-Storing,Manipulating,similar Data type\n",
        "\n",
        "# Faster than any mathematical functions\n",
        "# convenient compared to other packages\n",
        "# Memory efficiency\n",
        "# Support multi dimensional array\n",
        "\n",
        "# speed(Numpy operations) > speed(Lists operations)\n",
        "# size(Numpy operations) < size (lists operations)\n",
        "# Memory optimization (Numpy)> Memory optimization (Lists operations)"
      ],
      "metadata": {
        "id": "KsmlpcOHvVPH"
      },
      "execution_count": 17,
      "outputs": []
    },
    {
      "cell_type": "code",
      "source": [
        "# Install numpy - pip3 install numpy // pip install numpy"
      ],
      "metadata": {
        "id": "3bciAQffva8i"
      },
      "execution_count": 18,
      "outputs": []
    },
    {
      "cell_type": "code",
      "source": [
        "import numpy as np"
      ],
      "metadata": {
        "id": "oSnDYB4vwAoK"
      },
      "execution_count": 2,
      "outputs": []
    },
    {
      "cell_type": "code",
      "source": [
        "# Create a numpy array\n",
        "# 1D array\n",
        "\n",
        "arr1D=np.array([1,2,3,4,5])\n",
        "print(arr1D)"
      ],
      "metadata": {
        "colab": {
          "base_uri": "https://localhost:8080/"
        },
        "id": "aXJt4HCHwFdV",
        "outputId": "35d30b8a-a78e-4b8f-c633-6ac298c9ef8d"
      },
      "execution_count": 3,
      "outputs": [
        {
          "output_type": "stream",
          "name": "stdout",
          "text": [
            "[1 2 3 4 5]\n"
          ]
        }
      ]
    },
    {
      "cell_type": "code",
      "source": [
        "# Creating 2D array - Matrix\n",
        "arr2D=np.array([\n",
        "    [1,2,3],[4,5,6]\n",
        "])\n",
        "print(arr2D)"
      ],
      "metadata": {
        "colab": {
          "base_uri": "https://localhost:8080/"
        },
        "id": "LyDxr_u_wu6i",
        "outputId": "13eefbbd-91b3-4bcd-a8d7-ba7c28c36ff5"
      },
      "execution_count": 4,
      "outputs": [
        {
          "output_type": "stream",
          "name": "stdout",
          "text": [
            "[[1 2 3]\n",
            " [4 5 6]]\n"
          ]
        }
      ]
    },
    {
      "cell_type": "code",
      "source": [
        "# Creating Arrays with default values\n",
        "\n",
        "# Creating matrix with all values of elements as '0'\n",
        "allZeros=np.zeros((2,3))\n",
        "print(allZeros)\n",
        "\n",
        "# Creating matrix with all values of elements as '1'\n",
        "allOnes=np.ones((2,3))\n",
        "print(allOnes)\n",
        "\n",
        "# Creating matrix with all value of elements 'constant value' - n ~ Fill value'\n",
        "allConstant=np.full((2,3),6)\n",
        "print(allConstant)"
      ],
      "metadata": {
        "colab": {
          "base_uri": "https://localhost:8080/"
        },
        "id": "uxUBwKl0zTzh",
        "outputId": "bc9b9643-0db0-40dc-ec84-cfc2a12127a6"
      },
      "execution_count": 19,
      "outputs": [
        {
          "output_type": "stream",
          "name": "stdout",
          "text": [
            "[[0. 0. 0.]\n",
            " [0. 0. 0.]]\n",
            "[[1. 1. 1.]\n",
            " [1. 1. 1.]]\n",
            "[[6 6 6]\n",
            " [6 6 6]]\n"
          ]
        }
      ]
    },
    {
      "cell_type": "code",
      "source": [
        "# Create an identity matrix - I - Square matrix\n",
        "\n",
        "identity= np.eye(4)\n",
        "print(identity)\n",
        "\n",
        "# Identity Matrix - Aii = 1 && Aij = 0\n",
        "# For all A Belongs to R MxN\n",
        "# Aij -"
      ],
      "metadata": {
        "colab": {
          "base_uri": "https://localhost:8080/"
        },
        "id": "QMP6Qs3G0tx-",
        "outputId": "a65a3754-6498-4af8-dab1-51b9e47fc13a"
      },
      "execution_count": 6,
      "outputs": [
        {
          "output_type": "stream",
          "name": "stdout",
          "text": [
            "[[1. 0. 0. 0.]\n",
            " [0. 1. 0. 0.]\n",
            " [0. 0. 1. 0.]\n",
            " [0. 0. 0. 1.]]\n"
          ]
        }
      ]
    },
    {
      "cell_type": "code",
      "source": [
        "# Creating random Matrices\n",
        "\n",
        "# with 0 and 1\n",
        "rand1 = np.random.rand(3,3)\n",
        "print(rand1)\n",
        "\n",
        "# between a and b\n",
        "rand2 = np.random.randint(10,20,(3,3))\n",
        "print(rand2)"
      ],
      "metadata": {
        "colab": {
          "base_uri": "https://localhost:8080/"
        },
        "id": "GGmBtVBO3pQT",
        "outputId": "aeb61a93-fab4-410e-fb37-a4c54456811e"
      },
      "execution_count": 8,
      "outputs": [
        {
          "output_type": "stream",
          "name": "stdout",
          "text": [
            "[[0.17989817 0.51085778 0.52668351]\n",
            " [0.88991276 0.48940341 0.03332357]\n",
            " [0.10990455 0.6567387  0.22684931]]\n",
            "[[11 13 14]\n",
            " [13 17 11]\n",
            " [18 16 16]]\n"
          ]
        }
      ]
    },
    {
      "cell_type": "code",
      "source": [
        "# Array Properties\n",
        "\n",
        "arr = np.array([[1,2,3,4],[2,3,4,5]])\n",
        "print(arr)\n",
        "\n",
        "# Shape or array\n",
        "print(f'\\nThe shape of the array is {arr.shape}')\n",
        "\n",
        "# Size of array\n",
        "print(f'The size of the array is {arr.size}')\n",
        "\n",
        "# Datatype of array\n",
        "print(f'The Data type of the array is {arr.dtype}')\n",
        "\n",
        "# Dimensions of array\n",
        "print(f'The Dimension of the array is {arr.ndim}')"
      ],
      "metadata": {
        "colab": {
          "base_uri": "https://localhost:8080/"
        },
        "id": "JSz7e65f4nRV",
        "outputId": "2397da20-1e95-4b45-ca08-8da8aaa59f68"
      },
      "execution_count": 10,
      "outputs": [
        {
          "output_type": "stream",
          "name": "stdout",
          "text": [
            "[[1 2 3 4]\n",
            " [2 3 4 5]]\n",
            "\n",
            "The shape of the array is (2, 4)\n",
            "The size of the array is 8\n",
            "The Data type of the array is int64\n",
            "The Dimension of the array is 2\n"
          ]
        }
      ]
    },
    {
      "cell_type": "code",
      "source": [
        "# Indexing and Slicing\n",
        "# Access the elements in 1D Array\n",
        "arr = np.array([1,2,3,4])\n",
        "print(arr)\n",
        "print(arr[3])\n",
        "\n",
        "# Slicing the elements\n",
        "print(arr[0:3])\n",
        "\n",
        "# Access the elements in 2D Array\n",
        "arr2=np.array([[1,2,3],[2,3,4]])\n",
        "print(arr2)\n",
        "print(arr2[1,1])\n",
        "print(arr2[0,:]) # first row with all columns\n",
        "print(arr2[:,0]) # first column with all rows"
      ],
      "metadata": {
        "colab": {
          "base_uri": "https://localhost:8080/"
        },
        "id": "Ww7pRyVg7Z2U",
        "outputId": "cfccf7c6-7eb0-44d2-c142-6c07ea7e76bc"
      },
      "execution_count": 15,
      "outputs": [
        {
          "output_type": "stream",
          "name": "stdout",
          "text": [
            "[1 2 3 4]\n",
            "4\n",
            "[1 2 3]\n",
            "[[1 2 3]\n",
            " [2 3 4]]\n",
            "3\n",
            "[1 2 3]\n",
            "[1 2]\n"
          ]
        }
      ]
    },
    {
      "cell_type": "code",
      "source": [
        "#l1=[]\n",
        "#[l1.append(_) for _ in range(10)]\n",
        "l1 = np.arange(10,0,-1)\n",
        "print(l1)"
      ],
      "metadata": {
        "colab": {
          "base_uri": "https://localhost:8080/"
        },
        "id": "dqA4V2pwAn-Q",
        "outputId": "28ae7121-a966-498c-f337-959919f24367"
      },
      "execution_count": 37,
      "outputs": [
        {
          "output_type": "stream",
          "name": "stdout",
          "text": [
            "[10  9  8  7  6  5  4  3  2  1]\n"
          ]
        }
      ]
    },
    {
      "cell_type": "code",
      "source": [
        "# Mathematical operations\n",
        "a = np.array([1,2,3])\n",
        "b = np.array([3,4,5])\n",
        "\n",
        "print(f'The sum of a and b is { a + b}')\n",
        "print(f'The diff of a and b is { a - b}')\n",
        "print(f'The product of a and b is { a * b}')\n",
        "print(f'The division of a and b is { a / b}')"
      ],
      "metadata": {
        "colab": {
          "base_uri": "https://localhost:8080/"
        },
        "id": "7ceV-v0HCAEt",
        "outputId": "7594718a-b346-4c8b-d458-cc0acadf7a53"
      },
      "execution_count": 31,
      "outputs": [
        {
          "output_type": "stream",
          "name": "stdout",
          "text": [
            "The sum of a and b is [4 6 8]\n",
            "The diff of a and b is [-2 -2 -2]\n",
            "The product of a and b is [ 3  8 15]\n",
            "The division of a and b is [0.33333333 0.5        0.6       ]\n"
          ]
        }
      ]
    },
    {
      "cell_type": "code",
      "source": [
        "# Matrix multiplication\n",
        "b1 = np.array([[1,2,3],[2,3,4]])\n",
        "b2 = np.array([[5,6],[7,8],[1,3]])\n",
        "\n",
        "# Dot product --- product = AB mxn\n",
        "c=np.dot(b1,b2)\n",
        "print(c)"
      ],
      "metadata": {
        "colab": {
          "base_uri": "https://localhost:8080/"
        },
        "id": "wO6IXH0UCxjV",
        "outputId": "9199737d-8c4c-4079-b2ef-0f6508872fef"
      },
      "execution_count": 33,
      "outputs": [
        {
          "output_type": "stream",
          "name": "stdout",
          "text": [
            "[[22 31]\n",
            " [35 48]]\n"
          ]
        }
      ]
    },
    {
      "cell_type": "code",
      "source": [
        "print(b1)"
      ],
      "metadata": {
        "colab": {
          "base_uri": "https://localhost:8080/"
        },
        "id": "zxWebN1QE05H",
        "outputId": "deb19ac7-d4b0-47e9-d4b8-043412ad091c"
      },
      "execution_count": 38,
      "outputs": [
        {
          "output_type": "stream",
          "name": "stdout",
          "text": [
            "[[1 2 3]\n",
            " [2 3 4]]\n"
          ]
        }
      ]
    },
    {
      "cell_type": "code",
      "source": [
        "print(b2)"
      ],
      "metadata": {
        "colab": {
          "base_uri": "https://localhost:8080/"
        },
        "id": "s2j5x7kBE_AB",
        "outputId": "7034267f-2ef4-43cc-cd9a-6a634b1c5876"
      },
      "execution_count": 39,
      "outputs": [
        {
          "output_type": "stream",
          "name": "stdout",
          "text": [
            "[[5 6]\n",
            " [7 8]\n",
            " [1 3]]\n"
          ]
        }
      ]
    }
  ]
}